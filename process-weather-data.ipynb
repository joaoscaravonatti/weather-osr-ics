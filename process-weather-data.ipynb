{
 "cells": [
  {
   "cell_type": "code",
   "execution_count": 1,
   "id": "0c386282",
   "metadata": {},
   "outputs": [],
   "source": [
    "import cv2\n",
    "import numpy as np\n",
    "from glob import glob"
   ]
  },
  {
   "cell_type": "code",
   "execution_count": 2,
   "id": "3f26a724",
   "metadata": {},
   "outputs": [],
   "source": [
    "def get_paths():\n",
    "    directories = glob('./dataset/train/*')\n",
    "    files_srcs = []\n",
    "\n",
    "    for dir in directories:\n",
    "        files = glob(f'{dir}/*')\n",
    "        for file in files:\n",
    "            files_srcs.append(file)\n",
    "    \n",
    "    return files_srcs"
   ]
  },
  {
   "cell_type": "code",
   "execution_count": 3,
   "id": "d3ea445c",
   "metadata": {},
   "outputs": [],
   "source": [
    "def read_image(path, size):\n",
    "    image = cv2.imread(path)\n",
    "    if image is not None:\n",
    "        resized = cv2.resize(image, size, interpolation=cv2.INTER_AREA)\n",
    "        normalized = resized / 255\n",
    "        return normalized\n",
    "    return None"
   ]
  },
  {
   "cell_type": "code",
   "execution_count": 4,
   "id": "0fd97c69",
   "metadata": {},
   "outputs": [],
   "source": [
    "def batch_process(sources_list, batchsize):\n",
    "    images = []\n",
    "    labels = []\n",
    "    batch = sources_list[:batchsize]\n",
    "    \n",
    "    for path in batch:\n",
    "        label = path.split('/')[-2]\n",
    "        image = read_image(path, (64, 64))\n",
    "        if image is not None:\n",
    "            images.append(image)\n",
    "            labels.append(label)\n",
    "    \n",
    "    new_sources_list = sources_list[batchsize:]\n",
    "    return images, labels, new_sources_list"
   ]
  },
  {
   "cell_type": "code",
   "execution_count": 5,
   "id": "29d8d34f",
   "metadata": {},
   "outputs": [],
   "source": [
    "batchsize = 128\n",
    "paths = get_paths()\n",
    "imgs = []\n",
    "lbls = []\n",
    "\n",
    "for i in range(len(paths) // batchsize):\n",
    "    images, labels, paths = batch_process(paths, batchsize)\n",
    "    for idx in range(len(images)):\n",
    "        imgs.append(images[idx])\n",
    "        lbls.append(labels[idx])"
   ]
  },
  {
   "cell_type": "code",
   "execution_count": 6,
   "id": "9deed914",
   "metadata": {},
   "outputs": [],
   "source": [
    "images = np.array(imgs)\n",
    "labels = np.array(lbls)\n",
    "np.save('weather_train_samples.npy', images)\n",
    "np.save('weather_train_labels.npy', labels)"
   ]
  }
 ],
 "metadata": {
  "kernelspec": {
   "display_name": "Python 3 (ipykernel)",
   "language": "python",
   "name": "python3"
  },
  "language_info": {
   "codemirror_mode": {
    "name": "ipython",
    "version": 3
   },
   "file_extension": ".py",
   "mimetype": "text/x-python",
   "name": "python",
   "nbconvert_exporter": "python",
   "pygments_lexer": "ipython3",
   "version": "3.8.10"
  }
 },
 "nbformat": 4,
 "nbformat_minor": 5
}
