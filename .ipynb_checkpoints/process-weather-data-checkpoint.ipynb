{
 "cells": [
  {
   "cell_type": "code",
   "execution_count": 1,
   "id": "0c386282",
   "metadata": {},
   "outputs": [],
   "source": [
    "import cv2\n",
    "import numpy as np\n",
    "from PIL import Image\n",
    "from glob import glob"
   ]
  },
  {
   "cell_type": "code",
   "execution_count": 2,
   "id": "3f26a724",
   "metadata": {},
   "outputs": [],
   "source": [
    "def get_paths():\n",
    "    directories = glob('./dataset/train/*')\n",
    "    files_srcs = []\n",
    "\n",
    "    for dir in directories:\n",
    "        files = glob(f'{dir}/*')\n",
    "        for file in files:\n",
    "            files_srcs.append(file)\n",
    "    \n",
    "    return files_srcs"
   ]
  },
  {
   "cell_type": "code",
   "execution_count": 10,
   "id": "d3ea445c",
   "metadata": {},
   "outputs": [],
   "source": [
    "def read_image(path, size):\n",
    "    image = cv2.imread(path)\n",
    "    if image is not None:\n",
    "        resized = cv2.resize(image, size, interpolation=cv2.INTER_LINEAR)\n",
    "        normalized = resized / 255\n",
    "        return normalized\n",
    "    return None"
   ]
  },
  {
   "cell_type": "code",
   "execution_count": 7,
   "id": "0fd97c69",
   "metadata": {},
   "outputs": [],
   "source": [
    "def batch_process(sources_list, batchsize):\n",
    "    images = []\n",
    "    labels = []\n",
    "    batch = sources_list[:batchsize]\n",
    "    \n",
    "    for path in batch:\n",
    "        image = read_image(path, (64, 64))\n",
    "        if image is not None:\n",
    "            images.append(image)\n",
    "    \n",
    "    new_sources_list = sources_list[batchsize:]\n",
    "    return images, new_sources_list"
   ]
  },
  {
   "cell_type": "code",
   "execution_count": 28,
   "id": "29d8d34f",
   "metadata": {},
   "outputs": [],
   "source": [
    "batchsize = 64\n",
    "paths = get_paths()\n",
    "\n",
    "for i in range(len(paths) // batchsize):\n",
    "    images, paths = batch_process(paths, batchsize)\n",
    "    data = np.asanyarray(images)\n",
    "    np.save(f'file_{i}', data)"
   ]
  },
  {
   "cell_type": "code",
   "execution_count": 29,
   "id": "ea966c11",
   "metadata": {},
   "outputs": [
    {
     "name": "stdout",
     "output_type": "stream",
     "text": [
      "(64, 64, 64, 3)\n",
      "(64, 64, 64, 3)\n",
      "(64, 64, 64, 3)\n",
      "(64, 64, 64, 3)\n",
      "(64, 64, 64, 3)\n",
      "(63, 64, 64, 3)\n",
      "(64, 64, 64, 3)\n",
      "(64, 64, 64, 3)\n",
      "(64, 64, 64, 3)\n",
      "(63, 64, 64, 3)\n",
      "(64, 64, 64, 3)\n",
      "(64, 64, 64, 3)\n",
      "(64, 64, 64, 3)\n",
      "(64, 64, 64, 3)\n",
      "(64, 64, 64, 3)\n",
      "(64, 64, 64, 3)\n",
      "(64, 64, 64, 3)\n",
      "(64, 64, 64, 3)\n",
      "(64, 64, 64, 3)\n",
      "(64, 64, 64, 3)\n",
      "(64, 64, 64, 3)\n",
      "(64, 64, 64, 3)\n",
      "(64, 64, 64, 3)\n"
     ]
    }
   ],
   "source": [
    "img_array_paths = glob('./images/*')\n",
    "imgs = []\n",
    "\n",
    "for path in img_array_paths:\n",
    "    img = np.load(path)\n",
    "    print(img.shape)"
   ]
  }
 ],
 "metadata": {
  "kernelspec": {
   "display_name": "Python 3 (ipykernel)",
   "language": "python",
   "name": "python3"
  },
  "language_info": {
   "codemirror_mode": {
    "name": "ipython",
    "version": 3
   },
   "file_extension": ".py",
   "mimetype": "text/x-python",
   "name": "python",
   "nbconvert_exporter": "python",
   "pygments_lexer": "ipython3",
   "version": "3.8.10"
  }
 },
 "nbformat": 4,
 "nbformat_minor": 5
}
