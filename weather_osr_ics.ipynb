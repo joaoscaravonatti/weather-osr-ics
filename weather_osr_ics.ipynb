{
  "cells": [
    {
      "cell_type": "code",
      "execution_count": null,
      "metadata": {
        "id": "mQt3XtOzZyKE"
      },
      "outputs": [],
      "source": [
        "import numpy as np\n",
        "from PIL import Image\n",
        "import matplotlib.pyplot as plt\n",
        "from sklearn.model_selection import train_test_split\n",
        "from sklearn import metrics\n",
        "from sklearn.utils import shuffle\n",
        "from sklearn.preprocessing import LabelEncoder\n",
        "from tensorflow.keras.utils import to_categorical\n",
        "from tensorflow.keras.models import Sequential, model_from_json\n",
        "from tensorflow.keras.layers import Conv2D, Dense, MaxPooling2D, Flatten, Dropout, BatchNormalization\n",
        "from tensorflow.keras.preprocessing.image import ImageDataGenerator"
      ]
    },
    {
      "cell_type": "markdown",
      "metadata": {
        "id": "mbnivDZdkrjE"
      },
      "source": [
        "# Dados\n",
        "\n",
        "**Samples**: array 224x224x3 de amostras de imagens (RGB)\n",
        "\n",
        "**Labels**: array 1x1 com as classes das amostras em string (shiny, rainy, cloudy, foggy, sunrise)\n",
        "\n",
        "**transform_labels**: transforma os labels no formato one-hot-encoding (ex: [0, 0, 1, 0, 0])\n",
        "\n",
        "**get_data**: retorna todos os dados no formato correto para submeter aos modelos"
      ]
    },
    {
      "cell_type": "code",
      "execution_count": null,
      "metadata": {
        "colab": {
          "base_uri": "https://localhost:8080/"
        },
        "id": "mAfA6SOAZhPK",
        "outputId": "9fe5a53f-0297-426f-8a2d-0e398efc1436"
      },
      "outputs": [
        {
          "output_type": "stream",
          "name": "stdout",
          "text": [
            "Mounted at /content/drive\n"
          ]
        }
      ],
      "source": [
        "from google.colab import drive\n",
        "drive.mount('/content/drive')"
      ]
    },
    {
      "cell_type": "code",
      "execution_count": null,
      "metadata": {
        "id": "UWN0FYvfaVH7"
      },
      "outputs": [],
      "source": [
        "def load_data():\n",
        "    samples = np.load('/content/drive/MyDrive/IFC/8º Semestre/Trabalho de Curso II/dataset/weather_samples.npy')\n",
        "    labels = np.load('/content/drive/MyDrive/IFC/8º Semestre/Trabalho de Curso II/dataset/weather_labels.npy')\n",
        "    return samples, labels"
      ]
    },
    {
      "cell_type": "code",
      "execution_count": null,
      "metadata": {
        "id": "IXSQr_70a8ZL"
      },
      "outputs": [],
      "source": [
        "def transform_labels(labels):\n",
        "    le = LabelEncoder()\n",
        "    labels = le.fit_transform(labels)\n",
        "    labels = to_categorical(y=labels)\n",
        "    return labels"
      ]
    },
    {
      "cell_type": "code",
      "execution_count": null,
      "metadata": {
        "id": "bKn0ymAq_aSt"
      },
      "outputs": [],
      "source": [
        "def get_data():\n",
        "  samples, labels = load_data()\n",
        "  return samples, transform_labels(labels)"
      ]
    },
    {
      "cell_type": "markdown",
      "metadata": {
        "id": "jAat3JyxrUFK"
      },
      "source": [
        "# Utils\n",
        "\n",
        "**get_int_classes**: retorna um array de inteiros com base no valores one-hot-encoding passados\n",
        "\n",
        "**show_sample**: imprime o label e retorna a imagem da amostra fornecida"
      ]
    },
    {
      "cell_type": "code",
      "execution_count": null,
      "metadata": {
        "id": "Ithva-ItrTSG"
      },
      "outputs": [],
      "source": [
        "def get_int_classes(y):\n",
        "  return [np.argmax(i) for i in y]"
      ]
    },
    {
      "cell_type": "code",
      "execution_count": null,
      "metadata": {
        "id": "Pkuu3jNKgVo9"
      },
      "outputs": [],
      "source": [
        "def show_sample(sample, label):\n",
        "  classes = ['Cloudy', 'Foggy', 'Rainy', 'Shiny', 'Sunrise']\n",
        "  label_index = get_int_classes([label])[0]\n",
        "  print(classes[label_index])\n",
        "  print(label)\n",
        "  return Image.fromarray(sample, 'RGB')"
      ]
    },
    {
      "cell_type": "markdown",
      "metadata": {
        "id": "MS2wSqKdm5iP"
      },
      "source": [
        "# Modelos\n",
        "\n",
        "**create_model**: cria o modelo com o número de neurônios especificados por parâmetro\n",
        "\n",
        "**save_model**: salva a modelo criado juntamente dos pesos, gerando arquivos .h5 e .json\n",
        "\n",
        "**train_model**: treina o modelo passado por parâmetro utilizando Data Augmentation\n",
        "\n",
        "**load_model**: carrega e compila o modelo previamente salvo"
      ]
    },
    {
      "cell_type": "code",
      "execution_count": null,
      "metadata": {
        "id": "tPddE-pzcefK"
      },
      "outputs": [],
      "source": [
        "def create_model(output = 5):\n",
        "  model = Sequential()\n",
        "  model.add(Conv2D(64, (3, 3), activation='relu', input_shape=(224, 224, 3)))\n",
        "  model.add(BatchNormalization())\n",
        "  model.add(MaxPooling2D((2, 2)))\n",
        "  model.add(Conv2D(128, (3, 3), activation='relu'))\n",
        "  model.add(BatchNormalization())\n",
        "  model.add(MaxPooling2D((2, 2)))\n",
        "  model.add(Conv2D(128, (3, 3), activation='relu'))\n",
        "  model.add(BatchNormalization())\n",
        "  model.add(MaxPooling2D((2, 2)))\n",
        "  model.add(Flatten())\n",
        "  model.add(Dense(512, activation='relu'))\n",
        "  model.add(Dropout(0.1))\n",
        "  model.add(Dense(512, activation='relu'))\n",
        "  model.add(Dropout(0.1))\n",
        "  model.add(Dense(output, activation='softmax'))\n",
        "  model.compile(optimizer='adam', loss='categorical_crossentropy', metrics=['categorical_accuracy'])\n",
        "  return model"
      ]
    },
    {
      "cell_type": "code",
      "execution_count": null,
      "metadata": {
        "id": "QjSz9LRuFbeD"
      },
      "outputs": [],
      "source": [
        "def train_model(X, y, model, epochs):\n",
        "  batch_size = 32\n",
        "  datagen = ImageDataGenerator(rotation_range=20,\n",
        "                             zoom_range=0.15,\n",
        "                             width_shift_range=0.2,\n",
        "                             height_shift_range=0.2,\n",
        "                             shear_range=0.15,\n",
        "                             horizontal_flip=True,\n",
        "                             fill_mode=\"nearest\")\n",
        "  datagen.fit(X)\n",
        "  history = model.fit(datagen.flow(X, y, batch_size=32),\n",
        "                      epochs=epochs,\n",
        "                      steps_per_epoch=len(X) // batch_size,\n",
        "                      batch_size=128)\n",
        "  return history"
      ]
    },
    {
      "cell_type": "code",
      "execution_count": null,
      "metadata": {
        "id": "PWiyZJSaGx95"
      },
      "outputs": [],
      "source": [
        "def save_model(model):\n",
        "  model_json = model.to_json()\n",
        "  with open(\"model.json\", \"w\") as json_file:\n",
        "      json_file.write(model_json)\n",
        "  model.save_weights(\"model.h5\")"
      ]
    },
    {
      "cell_type": "code",
      "execution_count": null,
      "metadata": {
        "id": "uHIuVRGnBI5N"
      },
      "outputs": [],
      "source": [
        "def load_model(name = 'ics_model'):\n",
        "  model = None\n",
        "  path = '/content/drive/MyDrive/IFC/8º Semestre/Trabalho de Curso II/models/' + name\n",
        "  with open(path + '/model.json', 'r') as json_file:\n",
        "    model = model_from_json(json_file.read())\n",
        "    model.load_weights(path + '/model.h5')\n",
        "    model.compile(optimizer='adam', loss='categorical_crossentropy', metrics=['categorical_accuracy'])\n",
        "  return model"
      ]
    },
    {
      "cell_type": "markdown",
      "metadata": {
        "id": "UNxKI--Mvy89"
      },
      "source": [
        "# Avaliações\n",
        "\n",
        "Imprime a acurácia, acurácia balanceada, área abaixo da curva roc e a matriz de confusão"
      ]
    },
    {
      "cell_type": "code",
      "execution_count": null,
      "metadata": {
        "id": "xIGmVS5Qv73V"
      },
      "outputs": [],
      "source": [
        "def evaluate(y, y_pred):\n",
        "  gt = [np.argmax(i) for i in y]\n",
        "  pred = [np.argmax(i) for i in y_pred]\n",
        "\n",
        "  acc = metrics.accuracy_score(gt, pred)\n",
        "  bacc = metrics.balanced_accuracy_score(gt, pred)\n",
        "\n",
        "  print('Acurácia: %s\\nAcurácia balanceada: %s' % (acc, bacc))\n",
        "\n",
        "  roc_auc_score = metrics.roc_auc_score(y, y_pred, average='micro', multi_class='ovo')\n",
        "\n",
        "  print('ROC AUC SCORE: %s' % roc_auc_score)\n",
        "\n",
        "  cm = metrics.confusion_matrix(gt, pred)\n",
        "  cm_disp = metrics.ConfusionMatrixDisplay(cm)\n",
        "  cm_disp.plot()\n",
        "\n",
        "  # fp = cm.sum(axis=0) - np.diag(cm)  \n",
        "  # fn = cm.sum(axis=1) - np.diag(cm)\n",
        "  # tp = np.diag(cm)\n",
        "  # tn = cm.sum() - (fp + fn + tp)\n",
        "\n",
        "  # tpr = tp / (tp + fn)\n",
        "  # tnr = tn / (tn + fp)\n",
        "  # fpr = fp / (fp + tn)"
      ]
    },
    {
      "cell_type": "markdown",
      "metadata": {
        "id": "z_clFXPhn8zs"
      },
      "source": [
        "# Intra-class Splitting\n",
        "\n",
        "**intra_class_split**: divide as amostras em **típicas** e **atípicas** com base no score de similaridade com as respetivas classes de cada amostra"
      ]
    },
    {
      "cell_type": "code",
      "execution_count": null,
      "metadata": {
        "id": "rIqkVhyYOgFf"
      },
      "outputs": [],
      "source": [
        "def intra_class_split(y, pred, rho):\n",
        "  y_pred = to_categorical(y=get_int_classes(pred))\n",
        "\n",
        "  sim_score = y * y_pred * pred\n",
        "  sim_score = np.max(sim_score, axis=-1)\n",
        "  sim_thr = np.percentile(sim_score, rho)\n",
        "\n",
        "  typical_indexes = np.where(sim_score > sim_thr)[0]\n",
        "  atypical_indexes = np.where(sim_score <= sim_thr)[0]\n",
        "\n",
        "  return typical_indexes, atypical_indexes"
      ]
    },
    {
      "cell_type": "markdown",
      "metadata": {
        "id": "0YZMt-vPggod"
      },
      "source": [
        "# Classificação de conjunto aberto\n",
        "\n",
        "**get_new_labels**: retorna os novos labels modificando as classes desconhecidas para 0\n",
        "\n",
        "**split_osr_data**: retorna amostras divididas para treinar e testar o classificador de conjunto aberto\n",
        "\n",
        "**train_osr_model**: retorna o modelo treinado e o histórico\n",
        "\n",
        "# Divisão das amostras para OSR\n",
        "\n",
        "* ### Treino:\n",
        " * Apenas amostras típicas conhecidas\n",
        " * Amostras atípicas (alterar a classe para 0)\n",
        "\n",
        "* ### Treino:\n",
        " * Amostras típicas conhecidas\n",
        " * Amostras típicas desconhecidas (alterar a classe para 0)"
      ]
    },
    {
      "cell_type": "code",
      "execution_count": null,
      "metadata": {
        "id": "UPsyDuW3gp89"
      },
      "outputs": [],
      "source": [
        "def get_new_labels(y, unknown_classes):\n",
        "  new_labels = get_int_classes(y)\n",
        "  new_labels = [-1 if i in unknown_classes else i for i in new_labels]\n",
        "  new_labels = np.array(new_labels)\n",
        "  new_labels = new_labels + 1\n",
        "\n",
        "  unique_classes = np.unique(new_labels)\n",
        "\n",
        "  for i, v in enumerate(new_labels):\n",
        "    new_labels[i] = np.where(v == unique_classes)[0]\n",
        "\n",
        "  return to_categorical(y=new_labels)"
      ]
    },
    {
      "cell_type": "code",
      "execution_count": null,
      "metadata": {
        "id": "bsgdHBoNv2lW"
      },
      "outputs": [],
      "source": [
        "def split_osr_data(X, y, typical_indexes, atypical_indexes, unknown_classes):\n",
        "  int_labels = get_int_classes(y)\n",
        "  total_samples = len(X)\n",
        "\n",
        "  typical_known_indexes = []\n",
        "  typical_unknown_indexes = []\n",
        "\n",
        "  for i in typical_indexes:\n",
        "    if int_labels[i] not in unknown_classes:\n",
        "      typical_known_indexes.append(i)\n",
        "    else:\n",
        "      typical_unknown_indexes.append(i)\n",
        "\n",
        "  typical_known_indexes = shuffle(typical_known_indexes)\n",
        "\n",
        "  train_indexes_limit = int((len(typical_known_indexes) + len(atypical_indexes)) * 0.7)\n",
        "\n",
        "  train_indexes = typical_known_indexes[:train_indexes_limit]\n",
        "  test_indexes = typical_known_indexes[train_indexes_limit:]\n",
        "\n",
        "  for i in typical_unknown_indexes:\n",
        "    test_indexes.append(i)\n",
        "\n",
        "  for i in atypical_indexes:\n",
        "    train_indexes.append(i)\n",
        "\n",
        "  return X[train_indexes], get_new_labels(y[train_indexes], unknown_classes), X[test_indexes], get_new_labels(y[test_indexes], unknown_classes)"
      ]
    },
    {
      "cell_type": "markdown",
      "metadata": {
        "id": "A09xQvL_k7eT"
      },
      "source": [
        "# Experimento nº 1: desenvolvimento do modelo ICS"
      ]
    },
    {
      "cell_type": "markdown",
      "metadata": {
        "id": "3KLjbjdV3Itj"
      },
      "source": [
        "## Treinamento"
      ]
    },
    {
      "cell_type": "code",
      "execution_count": null,
      "metadata": {
        "id": "MiYS3slol0f8"
      },
      "outputs": [],
      "source": [
        "X, y = get_data()\n",
        "X_train, X_test, y_train, y_test = train_test_split(X, y, test_size=0.2, random_state=10)"
      ]
    },
    {
      "cell_type": "code",
      "execution_count": null,
      "metadata": {
        "id": "FjZblGY3m4YX"
      },
      "outputs": [],
      "source": [
        "ics_model = create_model(5)\n",
        "history = train_model(X_train, y_train, ics_model, epochs=300)"
      ]
    },
    {
      "cell_type": "markdown",
      "metadata": {
        "id": "SwQBe8N53RDk"
      },
      "source": [
        "## Teste e avaliação"
      ]
    },
    {
      "cell_type": "code",
      "execution_count": null,
      "metadata": {
        "colab": {
          "base_uri": "https://localhost:8080/",
          "height": 331
        },
        "id": "98xVqz54AWXw",
        "outputId": "a1c6e655-8813-4cb8-c10e-9f6a32b97ea3"
      },
      "outputs": [
        {
          "name": "stdout",
          "output_type": "stream",
          "text": [
            "Acurácia: 0.9117647058823529\n",
            "Acurácia balanceada: 0.9096017772750751\n",
            "ROC AUC SCORE: 0.9890319962407621\n"
          ]
        },
        {
          "data": {
            "image/png": "[encoded data removed]",
            "text/plain": [
              "<Figure size 432x288 with 2 Axes>"
            ]
          },
          "metadata": {},
          "output_type": "display_data"
        }
      ],
      "source": [
        "pred = ics_model.predict(X_test)\n",
        "evaluate(y_test, pred)"
      ]
    },
    {
      "cell_type": "code",
      "execution_count": null,
      "metadata": {
        "id": "mWrBsgDRKxq_"
      },
      "outputs": [],
      "source": [
        "save_model(ics_model)"
      ]
    },
    {
      "cell_type": "markdown",
      "metadata": {
        "id": "hptucSseN1c4"
      },
      "source": [
        "# Experimento nº 2: *intra-class splitting*"
      ]
    },
    {
      "cell_type": "code",
      "execution_count": null,
      "metadata": {
        "id": "CY-I2wcOOF6_"
      },
      "outputs": [],
      "source": [
        "X, y = get_data()\n",
        "ics_model = load_model('ics_model')"
      ]
    },
    {
      "cell_type": "code",
      "execution_count": null,
      "metadata": {
        "colab": {
          "base_uri": "https://localhost:8080/"
        },
        "id": "g96-66tcPbxq",
        "outputId": "d57a3688-9bed-4e10-8b81-a0b418ce55ee"
      },
      "outputs": [
        {
          "output_type": "execute_result",
          "data": {
            "text/plain": [
              "1528"
            ]
          },
          "metadata": {},
          "execution_count": 17
        }
      ],
      "source": [
        "len(y)"
      ]
    },
    {
      "cell_type": "code",
      "execution_count": null,
      "metadata": {
        "colab": {
          "base_uri": "https://localhost:8080/"
        },
        "id": "uFKFfksvN-5g",
        "outputId": "26914ecd-7b2e-4c65-ffee-b67643fc7463"
      },
      "outputs": [
        {
          "output_type": "stream",
          "name": "stdout",
          "text": [
            "Quantidade de amostras típicas: 1375 (89.99%)\n",
            "Quantidade de amostras atípicas: 153 (10.01%)\n"
          ]
        }
      ],
      "source": [
        "pred = ics_model.predict(X)\n",
        "typical_indexes, atypical_indexes = intra_class_split(y, pred, 10)\n",
        "total_typical = len(typical_indexes)\n",
        "total_atypical = len(atypical_indexes)\n",
        "total = total_typical + total_atypical\n",
        "\n",
        "print('Quantidade de amostras típicas: %s (%.2f%%)\\nQuantidade de amostras atípicas: %s (%.2f%%)' % (total_typical, ((total_typical * 100) / total), total_atypical, ((total_atypical * 100) / total)))"
      ]
    },
    {
      "cell_type": "markdown",
      "source": [
        "# Experimento nº 3: desenvolvimento do modelo OSR\n",
        "\n",
        "rho = 10\n",
        "\n",
        "classes desconhecidas = 1, 2\n",
        "\n",
        "epochs = 300"
      ],
      "metadata": {
        "id": "ellq_CEW_Xry"
      }
    },
    {
      "cell_type": "code",
      "source": [
        "X_train, y_train, X_test, y_test = split_osr_data(X, y, typical_indexes, atypical_indexes, [1, 2])\n",
        "osr_model = create_model(4)\n",
        "history = train_model(X_train, y_train, osr_model, 300)"
      ],
      "metadata": {
        "id": "t479IbRV_cbJ"
      },
      "execution_count": null,
      "outputs": []
    },
    {
      "cell_type": "code",
      "source": [
        "save_model(osr_model)"
      ],
      "metadata": {
        "id": "DBOUqeH6_iA0"
      },
      "execution_count": null,
      "outputs": []
    },
    {
      "cell_type": "code",
      "source": [
        "osr_pred = osr_model.predict(X_test)\n",
        "evaluate(y_test, osr_pred)"
      ],
      "metadata": {
        "colab": {
          "base_uri": "https://localhost:8080/",
          "height": 331
        },
        "id": "oTjqNNf4_jUD",
        "outputId": "1e0ce2ef-42fa-44d0-97d2-2ebdcb97b28b"
      },
      "execution_count": null,
      "outputs": [
        {
          "output_type": "stream",
          "name": "stdout",
          "text": [
            "Acurácia: 0.6580459770114943\n",
            "Acurácia balanceada: 0.7602235011338939\n",
            "ROC AUC SCORE: 0.853337833597569\n"
          ]
        },
        {
          "output_type": "display_data",
          "data": {
            "image/png": "[encoded data removed]",
            "text/plain": [
              "<Figure size 432x288 with 2 Axes>"
            ]
          },
          "metadata": {
            "needs_background": "light"
          }
        }
      ]
    },
    {
      "cell_type": "code",
      "source": [
        "index = 0\n",
        "\n",
        "for i, v in enumerate(get_int_classes(y_test)):\n",
        "  if v == 2:\n",
        "    index = i\n",
        "  \n",
        "show_sample(X_test[index], y_test[index])"
      ],
      "metadata": {
        "colab": {
          "base_uri": "https://localhost:8080/",
          "height": 276
        },
        "id": "1_-2nxSjbKJ1",
        "outputId": "2dd9d3dd-b41e-42f4-9166-cf294c4eb43a"
      },
      "execution_count": null,
      "outputs": [
        {
          "output_type": "stream",
          "name": "stdout",
          "text": [
            "Rainy\n",
            "[0. 0. 1. 0.]\n"
          ]
        },
        {
          "output_type": "execute_result",
          "data": {
            "image/png": "[encoded data removed]",
            "text/plain": [
              "<PIL.Image.Image image mode=RGB size=224x224 at 0x7F6EA762AE90>"
            ]
          },
          "metadata": {},
          "execution_count": 80
        }
      ]
    }
  ],
  "metadata": {
    "accelerator": "GPU",
    "colab": {
      "collapsed_sections": [
        "mbnivDZdkrjE",
        "jAat3JyxrUFK",
        "MS2wSqKdm5iP",
        "UNxKI--Mvy89",
        "z_clFXPhn8zs",
        "0YZMt-vPggod",
        "A09xQvL_k7eT",
        "3KLjbjdV3Itj",
        "SwQBe8N53RDk",
        "hptucSseN1c4",
        "ellq_CEW_Xry"
      ],
      "name": "weather-osr-ics.ipynb",
      "provenance": []
    },
    "kernelspec": {
      "display_name": "Python 3",
      "name": "python3"
    },
    "language_info": {
      "name": "python"
    }
  },
  "nbformat": 4,
  "nbformat_minor": 0
}